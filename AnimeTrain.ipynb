{
 "cells": [
  {
   "cell_type": "code",
   "execution_count": 2,
   "id": "9be92f9e-03de-4ac9-ad0d-322b544745db",
   "metadata": {},
   "outputs": [],
   "source": [
    "import pandas as pd\n",
    "import numpy as np\n",
    "from sklearn.preprocessing import StandardScaler, OneHotEncoder\n",
    "from sklearn.compose import ColumnTransformer\n",
    "from sklearn.pipeline import Pipeline\n",
    "from sklearn.neighbors import NearestNeighbors\n",
    "from sklearn.impute import SimpleImputer\n",
    "import joblib"
   ]
  },
  {
   "cell_type": "code",
   "execution_count": 3,
   "id": "4e6dc5a7-5f79-4463-b87a-ee11c7d9faee",
   "metadata": {},
   "outputs": [
    {
     "name": "stdout",
     "output_type": "stream",
     "text": [
      "Initial data sample:\n",
      "anime_id                                                      11013\n",
      "title                                                 Inu x Boku SS\n",
      "title_english                             Inu X Boku Secret Service\n",
      "title_japanese                                               妖狐×僕SS\n",
      "title_synonyms                                      Youko x Boku SS\n",
      "image_url         https://myanimelist.cdn-dena.com/images/anime/...\n",
      "type                                                             TV\n",
      "source                                                        Manga\n",
      "episodes                                                         12\n",
      "status                                              Finished Airing\n",
      "airing                                                        False\n",
      "aired_string                           Jan 13, 2012 to Mar 30, 2012\n",
      "aired                    {'from': '2012-01-13', 'to': '2012-03-30'}\n",
      "duration                                            24 min. per ep.\n",
      "rating                                    PG-13 - Teens 13 or older\n",
      "score                                                          7.63\n",
      "scored_by                                                    139250\n",
      "rank                                                         1274.0\n",
      "popularity                                                      231\n",
      "members                                                      283882\n",
      "favorites                                                      2809\n",
      "background        Inu x Boku SS was licensed by Sentai Filmworks...\n",
      "premiered                                               Winter 2012\n",
      "broadcast                                        Fridays at Unknown\n",
      "related           {'Adaptation': [{'mal_id': 17207, 'type': 'man...\n",
      "producer          Aniplex, Square Enix, Mainichi Broadcasting Sy...\n",
      "licensor                                           Sentai Filmworks\n",
      "studio                                             David Production\n",
      "genre                        Comedy, Supernatural, Romance, Shounen\n",
      "opening_theme                                 ['\"Nirvana\" by MUCC']\n",
      "ending_theme      ['#1: \"Nirvana\" by MUCC (eps 1, 11-12)', '#2: ...\n",
      "Name: 0, dtype: object\n"
     ]
    }
   ],
   "source": [
    "# Load the dataset\n",
    "data = pd.read_csv('anime_filtered.csv')\n",
    "print(\"Initial data sample:\")\n",
    "print(data.iloc[0])"
   ]
  },
  {
   "cell_type": "code",
   "execution_count": 4,
   "id": "141167a1-48e4-4b0d-aae1-fadff6deda77",
   "metadata": {},
   "outputs": [
    {
     "name": "stdout",
     "output_type": "stream",
     "text": [
      "Data sample after dropping unnecessary columns:\n",
      "type                                              TV\n",
      "episodes                                          12\n",
      "rating                     PG-13 - Teens 13 or older\n",
      "score                                           7.63\n",
      "popularity                                       231\n",
      "studio                              David Production\n",
      "genre         Comedy, Supernatural, Romance, Shounen\n",
      "Name: 0, dtype: object\n"
     ]
    }
   ],
   "source": [
    "columns_to_drop = [\n",
    "    'anime_id', 'duration','title', 'title_english', 'title_japanese', 'title_synonyms', \n",
    "    'image_url', 'rank','source', 'status', 'airing', 'aired', 'aired_string', \n",
    "    'background', 'premiered', 'broadcast', 'related', 'producer', \n",
    "    'licensor', 'opening_theme', 'ending_theme', 'members', 'favorites', 'scored_by'\n",
    "]\n",
    "data = data.drop(columns=columns_to_drop)\n",
    "print(\"Data sample after dropping unnecessary columns:\")\n",
    "print(data.iloc[0])\n"
   ]
  },
  {
   "cell_type": "code",
   "execution_count": 5,
   "id": "fca2daa7-c0e9-4945-9ef4-aa346e36dbb6",
   "metadata": {},
   "outputs": [
    {
     "data": {
      "text/html": [
       "<style>#sk-container-id-1 {color: black;background-color: white;}#sk-container-id-1 pre{padding: 0;}#sk-container-id-1 div.sk-toggleable {background-color: white;}#sk-container-id-1 label.sk-toggleable__label {cursor: pointer;display: block;width: 100%;margin-bottom: 0;padding: 0.3em;box-sizing: border-box;text-align: center;}#sk-container-id-1 label.sk-toggleable__label-arrow:before {content: \"▸\";float: left;margin-right: 0.25em;color: #696969;}#sk-container-id-1 label.sk-toggleable__label-arrow:hover:before {color: black;}#sk-container-id-1 div.sk-estimator:hover label.sk-toggleable__label-arrow:before {color: black;}#sk-container-id-1 div.sk-toggleable__content {max-height: 0;max-width: 0;overflow: hidden;text-align: left;background-color: #f0f8ff;}#sk-container-id-1 div.sk-toggleable__content pre {margin: 0.2em;color: black;border-radius: 0.25em;background-color: #f0f8ff;}#sk-container-id-1 input.sk-toggleable__control:checked~div.sk-toggleable__content {max-height: 200px;max-width: 100%;overflow: auto;}#sk-container-id-1 input.sk-toggleable__control:checked~label.sk-toggleable__label-arrow:before {content: \"▾\";}#sk-container-id-1 div.sk-estimator input.sk-toggleable__control:checked~label.sk-toggleable__label {background-color: #d4ebff;}#sk-container-id-1 div.sk-label input.sk-toggleable__control:checked~label.sk-toggleable__label {background-color: #d4ebff;}#sk-container-id-1 input.sk-hidden--visually {border: 0;clip: rect(1px 1px 1px 1px);clip: rect(1px, 1px, 1px, 1px);height: 1px;margin: -1px;overflow: hidden;padding: 0;position: absolute;width: 1px;}#sk-container-id-1 div.sk-estimator {font-family: monospace;background-color: #f0f8ff;border: 1px dotted black;border-radius: 0.25em;box-sizing: border-box;margin-bottom: 0.5em;}#sk-container-id-1 div.sk-estimator:hover {background-color: #d4ebff;}#sk-container-id-1 div.sk-parallel-item::after {content: \"\";width: 100%;border-bottom: 1px solid gray;flex-grow: 1;}#sk-container-id-1 div.sk-label:hover label.sk-toggleable__label {background-color: #d4ebff;}#sk-container-id-1 div.sk-serial::before {content: \"\";position: absolute;border-left: 1px solid gray;box-sizing: border-box;top: 0;bottom: 0;left: 50%;z-index: 0;}#sk-container-id-1 div.sk-serial {display: flex;flex-direction: column;align-items: center;background-color: white;padding-right: 0.2em;padding-left: 0.2em;position: relative;}#sk-container-id-1 div.sk-item {position: relative;z-index: 1;}#sk-container-id-1 div.sk-parallel {display: flex;align-items: stretch;justify-content: center;background-color: white;position: relative;}#sk-container-id-1 div.sk-item::before, #sk-container-id-1 div.sk-parallel-item::before {content: \"\";position: absolute;border-left: 1px solid gray;box-sizing: border-box;top: 0;bottom: 0;left: 50%;z-index: -1;}#sk-container-id-1 div.sk-parallel-item {display: flex;flex-direction: column;z-index: 1;position: relative;background-color: white;}#sk-container-id-1 div.sk-parallel-item:first-child::after {align-self: flex-end;width: 50%;}#sk-container-id-1 div.sk-parallel-item:last-child::after {align-self: flex-start;width: 50%;}#sk-container-id-1 div.sk-parallel-item:only-child::after {width: 0;}#sk-container-id-1 div.sk-dashed-wrapped {border: 1px dashed gray;margin: 0 0.4em 0.5em 0.4em;box-sizing: border-box;padding-bottom: 0.4em;background-color: white;}#sk-container-id-1 div.sk-label label {font-family: monospace;font-weight: bold;display: inline-block;line-height: 1.2em;}#sk-container-id-1 div.sk-label-container {text-align: center;}#sk-container-id-1 div.sk-container {/* jupyter's `normalize.less` sets `[hidden] { display: none; }` but bootstrap.min.css set `[hidden] { display: none !important; }` so we also need the `!important` here to be able to override the default hidden behavior on the sphinx rendered scikit-learn.org. See: https://github.com/scikit-learn/scikit-learn/issues/21755 */display: inline-block !important;position: relative;}#sk-container-id-1 div.sk-text-repr-fallback {display: none;}</style><div id=\"sk-container-id-1\" class=\"sk-top-container\"><div class=\"sk-text-repr-fallback\"><pre>NearestNeighbors(metric=&#x27;cosine&#x27;, n_neighbors=10)</pre><b>In a Jupyter environment, please rerun this cell to show the HTML representation or trust the notebook. <br />On GitHub, the HTML representation is unable to render, please try loading this page with nbviewer.org.</b></div><div class=\"sk-container\" hidden><div class=\"sk-item\"><div class=\"sk-estimator sk-toggleable\"><input class=\"sk-toggleable__control sk-hidden--visually\" id=\"sk-estimator-id-1\" type=\"checkbox\" checked><label for=\"sk-estimator-id-1\" class=\"sk-toggleable__label sk-toggleable__label-arrow\">NearestNeighbors</label><div class=\"sk-toggleable__content\"><pre>NearestNeighbors(metric=&#x27;cosine&#x27;, n_neighbors=10)</pre></div></div></div></div></div>"
      ],
      "text/plain": [
       "NearestNeighbors(metric='cosine', n_neighbors=10)"
      ]
     },
     "execution_count": 5,
     "metadata": {},
     "output_type": "execute_result"
    }
   ],
   "source": [
    "# Split and One-Hot Encode the Genre Column\n",
    "# Use pd.get_dummies to create binary columns for each unique genre\n",
    "genre_dummies = data['genre'].str.get_dummies(sep=', ')\n",
    "data = pd.concat([data, genre_dummies], axis=1)\n",
    "\n",
    "# Drop the original 'genre' column\n",
    "data = data.drop(columns=['genre'])\n",
    "\n",
    "# Define numerical and categorical features for the preprocessor\n",
    "numerical_features = ['episodes', 'score', 'popularity']\n",
    "categorical_features = ['type','rating', 'studio'] \n",
    "\n",
    "# Define the transformers\n",
    "numerical_transformer = Pipeline(steps=[\n",
    "    ('imputer', SimpleImputer(strategy='median')),  # Impute missing values with median\n",
    "    ('scaler', StandardScaler())\n",
    "])\n",
    "categorical_transformer = Pipeline(steps=[\n",
    "    ('imputer', SimpleImputer(strategy='most_frequent')),  # Impute missing values with the most frequent value\n",
    "    ('onehot', OneHotEncoder(handle_unknown='ignore'))\n",
    "])\n",
    "\n",
    "# Create the preprocessor\n",
    "preprocessor = ColumnTransformer(\n",
    "    transformers=[\n",
    "        ('num', numerical_transformer, numerical_features),\n",
    "        ('cat', categorical_transformer, categorical_features)\n",
    "    ],\n",
    "    remainder='passthrough'\n",
    ")\n",
    "\n",
    "# Define the model pipeline\n",
    "model_pipeline = Pipeline(\n",
    "    steps=[\n",
    "        ('preprocessor', preprocessor),\n",
    "        ('nearestneighbors', NearestNeighbors(n_neighbors=10, metric='cosine'))\n",
    "    ]\n",
    ")\n",
    "\n",
    "# Fit the preprocessor and the model\n",
    "X_preprocessed = preprocessor.fit_transform(data)\n",
    "model_pipeline.named_steps['nearestneighbors'].fit(X_preprocessed)"
   ]
  },
  {
   "cell_type": "code",
   "execution_count": 6,
   "id": "5c9b69d3-ee5f-400a-bbae-368f7401d561",
   "metadata": {},
   "outputs": [
    {
     "data": {
      "text/plain": [
       "['X_preprocessed.pkl']"
      ]
     },
     "execution_count": 6,
     "metadata": {},
     "output_type": "execute_result"
    }
   ],
   "source": [
    "joblib.dump(model_pipeline, 'anime_recommendation_model.pkl')\n",
    "joblib.dump(X_preprocessed, 'X_preprocessed.pkl')\n"
   ]
  }
 ],
 "metadata": {
  "kernelspec": {
   "display_name": "Python 3 (ipykernel)",
   "language": "python",
   "name": "python3"
  },
  "language_info": {
   "codemirror_mode": {
    "name": "ipython",
    "version": 3
   },
   "file_extension": ".py",
   "mimetype": "text/x-python",
   "name": "python",
   "nbconvert_exporter": "python",
   "pygments_lexer": "ipython3",
   "version": "3.11.7"
  }
 },
 "nbformat": 4,
 "nbformat_minor": 5
}
